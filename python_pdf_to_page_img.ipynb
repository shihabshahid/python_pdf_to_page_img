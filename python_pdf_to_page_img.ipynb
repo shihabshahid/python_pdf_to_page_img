{
 "cells": [
  {
   "cell_type": "code",
   "execution_count": 1,
   "id": "ca0dd36f-935a-439e-b941-00d7bd0822a1",
   "metadata": {},
   "outputs": [],
   "source": [
    "# import module\n",
    "import os\n",
    "from pdf2image import convert_from_path\n",
    "\n",
    "poppler_path = r\"poppler-24.02.0\\Library\\bin\"\n",
    "pdf_path = r\"merge.pdf\"\n",
    "\n",
    "pages=convert_from_path(pdf_path=pdf_path,poppler_path=poppler_path)\n",
    "\n",
    "saving_folder = r\"'' \n",
    "c=1\n",
    "for page in pages:\n",
    "    img_name=f\"img-{c}.jpg\"\n",
    "    page.save(os.path.join(saving_folder,img_name),\"JPEG\")\n",
    "    c+=1"
   ]
  },
  {
   "cell_type": "code",
   "execution_count": null,
   "id": "867bae2e-2292-44b9-8cef-4feedb8d7176",
   "metadata": {},
   "outputs": [],
   "source": []
  }
 ],
 "metadata": {
  "kernelspec": {
   "display_name": "Python 3 (ipykernel)",
   "language": "python",
   "name": "python3"
  },
  "language_info": {
   "codemirror_mode": {
    "name": "ipython",
    "version": 3
   },
   "file_extension": ".py",
   "mimetype": "text/x-python",
   "name": "python",
   "nbconvert_exporter": "python",
   "pygments_lexer": "ipython3",
   "version": "3.11.7"
  }
 },
 "nbformat": 4,
 "nbformat_minor": 5
}
